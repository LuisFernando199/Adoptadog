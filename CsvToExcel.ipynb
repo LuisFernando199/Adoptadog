{
  "nbformat": 4,
  "nbformat_minor": 0,
  "metadata": {
    "colab": {
      "provenance": [],
      "authorship_tag": "ABX9TyMx96HNSk1bUqp5ArIG5hdD",
      "include_colab_link": true
    },
    "kernelspec": {
      "name": "python3",
      "display_name": "Python 3"
    },
    "language_info": {
      "name": "python"
    }
  },
  "cells": [
    {
      "cell_type": "markdown",
      "metadata": {
        "id": "view-in-github",
        "colab_type": "text"
      },
      "source": [
        "<a href=\"https://colab.research.google.com/github/LuisFernando199/Adoptadog/blob/main/CsvToExcel.ipynb\" target=\"_parent\"><img src=\"https://colab.research.google.com/assets/colab-badge.svg\" alt=\"Open In Colab\"/></a>"
      ]
    },
    {
      "cell_type": "code",
      "execution_count": 20,
      "metadata": {
        "colab": {
          "base_uri": "https://localhost:8080/"
        },
        "id": "DoRJHttgfzFe",
        "outputId": "42e56576-573a-4967-e890-9a7368b84b97"
      },
      "outputs": [
        {
          "output_type": "stream",
          "name": "stdout",
          "text": [
            "/content\n"
          ]
        }
      ],
      "source": [
        "import pandas as pd\n",
        "import os\n",
        "\n",
        "# Seleccionamos el archivo y la carpeta.\n",
        "nombre_archivo = \"/content/Catalogo_v2.csv\"\n",
        "carpeta = os.path.dirname(nombre_archivo)\n",
        "print(carpeta)"
      ]
    },
    {
      "cell_type": "code",
      "source": [
        "# Separo el nombre de la extensión\n",
        "nombre,extension = os.path.basename(nombre_archivo).split('.')\n",
        "print(nombre)\n",
        "print(extension)\n",
        "# Uso las extensiones para unir las rutas y formatear los valores\n",
        "if extension == \"csv\":\n",
        "  archivo_salida = os.path.join(carpeta, '{}.xlsx'.format(nombre))\n",
        "  print(archivo_salida)\n",
        "elif extension == \"xlsx\":\n",
        "  archivo_salida = os.path.join(carpeta, '{}.csv'.format(nombre))\n",
        "  print(archivo_salida)\n",
        "\n",
        "  # Paso de csv a excel\n",
        "  if extension == \"csv\":\n",
        "    dataframe = pd.read_csv(nombre_archivo)\n",
        "    dataframe.to_excel(archivo_salida, index=False)\n",
        "  # de excel a csv\n",
        "  elif extension==\"xlsx\":\n",
        "    leer_archivo = pd.read_excel(nombre_archivo)\n",
        "    leer_archivo.to_csv(archivo_salida,\n",
        "                        index = None,\n",
        "                        header = True)\n",
        "\n"
      ],
      "metadata": {
        "colab": {
          "base_uri": "https://localhost:8080/"
        },
        "id": "VN2oXxsAhtal",
        "outputId": "d4784387-51b3-41ac-8e4b-6bebecea17c4"
      },
      "execution_count": 21,
      "outputs": [
        {
          "output_type": "stream",
          "name": "stdout",
          "text": [
            "Catalogo_v2\n",
            "csv\n",
            "/content/Catalogo_v2.xlsx\n"
          ]
        }
      ]
    }
  ]
}