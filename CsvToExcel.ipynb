{
  "nbformat": 4,
  "nbformat_minor": 0,
  "metadata": {
    "colab": {
      "provenance": [],
      "authorship_tag": "ABX9TyMjZ0IcVkN3indh9ePCdvl9",
      "include_colab_link": true
    },
    "kernelspec": {
      "name": "python3",
      "display_name": "Python 3"
    },
    "language_info": {
      "name": "python"
    }
  },
  "cells": [
    {
      "cell_type": "markdown",
      "metadata": {
        "id": "view-in-github",
        "colab_type": "text"
      },
      "source": [
        "<a href=\"https://colab.research.google.com/github/LuisFernando199/Adoptadog/blob/main/CsvToExcel.ipynb\" target=\"_parent\"><img src=\"https://colab.research.google.com/assets/colab-badge.svg\" alt=\"Open In Colab\"/></a>"
      ]
    },
    {
      "cell_type": "code",
      "execution_count": 43,
      "metadata": {
        "colab": {
          "base_uri": "https://localhost:8080/"
        },
        "id": "DoRJHttgfzFe",
        "outputId": "a0f4d6f0-2ec9-49e7-c8b8-843123d25612"
      },
      "outputs": [
        {
          "output_type": "stream",
          "name": "stdout",
          "text": [
            "/content\n"
          ]
        }
      ],
      "source": [
        "import pandas as pd\n",
        "import os\n",
        "\n",
        "# Seleccionamos el archivo y la carpeta.\n",
        "nombre_archivo = \"/content/Catalog_v2.csv\"\n",
        "carpeta = os.path.dirname(nombre_archivo)\n",
        "print(carpeta)"
      ]
    },
    {
      "cell_type": "code",
      "source": [
        "# Separo el nombre de la extensión\n",
        "nombre, extension = os.path.basename(nombre_archivo).split('.')\n",
        "print(nombre)\n",
        "print(extension)\n",
        "\n",
        "# Uso las extensiones para unir las rutas y formatear los valores\n",
        "if extension == \"csv\":\n",
        "    archivo_salida = os.path.join(carpeta, '{}.xlsx'.format(nombre))\n",
        "    print(archivo_salida)\n",
        "\n",
        "    # Paso de csv a excel\n",
        "    df = pd.read_csv(nombre_archivo)\n",
        "    df.to_excel(archivo_salida, index=False)\n",
        "    print(df)\n",
        "\n",
        "elif extension == \"xlsx\":\n",
        "    archivo_salida = os.path.join(carpeta, '{}.csv'.format(nombre))\n",
        "    print(archivo_salida)\n",
        "\n",
        "    # de excel a csv\n",
        "    leer_archivo = pd.read_excel(nombre_archivo)\n",
        "    leer_archivo.to_csv(archivo_salida, index=False, header=True)\n",
        "    print(leer_archivo)\n"
      ],
      "metadata": {
        "colab": {
          "base_uri": "https://localhost:8080/"
        },
        "id": "VN2oXxsAhtal",
        "outputId": "ab63f613-1c35-46f2-e9ca-5a66307e94c5"
      },
      "execution_count": 44,
      "outputs": [
        {
          "output_type": "stream",
          "name": "stdout",
          "text": [
            "Catalog_v2\n",
            "csv\n",
            "/content/Catalog_v2.xlsx\n",
            "   levelType                  code catalogType                  name  \\\n",
            "0   CATEGORY       Street Lighting     PRODUCT       Street Lighting   \n",
            "1   CATEGORY   Pedestrian Lighting     PRODUCT   Pedestrian Lighting   \n",
            "2   CATEGORY  Traffic Signal Poles     PRODUCT  Traffic Signal Poles   \n",
            "3   CATEGORY              Controls     PRODUCT              Controls   \n",
            "4   CATEGORY            Downlights     PRODUCT            Downlights   \n",
            "..       ...                   ...         ...                   ...   \n",
            "57  CATEGORY             Luminaire        ITEM             Luminaire   \n",
            "58  CATEGORY           Mechanicals        ITEM           Mechanicals   \n",
            "59  CATEGORY       Primary Chassis        ITEM       Primary Chassis   \n",
            "60  CATEGORY    Primary Foundation        ITEM    Primary Foundation   \n",
            "61  CATEGORY     Secondary Chassis        ITEM     Secondary Chassis   \n",
            "\n",
            "                               description  \\\n",
            "0        Category code for Street Lighting   \n",
            "1    Category code for Pedestrian Lighting   \n",
            "2   Category code for Traffic Signal Poles   \n",
            "3               Category code for Controls   \n",
            "4             Category code for Downlights   \n",
            "..                                     ...   \n",
            "57             Category code for Luminaire   \n",
            "58           Category code for Mechanicals   \n",
            "59       Category code for Primary Chassis   \n",
            "60    Category code for Primary Foundation   \n",
            "61     Category code for Secondary Chassis   \n",
            "\n",
            "                                   sourceLink  \n",
            "0        http://lighttree.com/Street Lighting  \n",
            "1    http://lighttree.com/Pedestrian Lighting  \n",
            "2   http://lighttree.com/Traffic Signal Poles  \n",
            "3               http://lighttree.com/Controls  \n",
            "4             http://lighttree.com/Downlights  \n",
            "..                                        ...  \n",
            "57             http://lighttree.com/Luminaire  \n",
            "58           http://lighttree.com/Mechanicals  \n",
            "59       http://lighttree.com/Primary Chassis  \n",
            "60    http://lighttree.com/Primary Foundation  \n",
            "61     http://lighttree.com/Secondary Chassis  \n",
            "\n",
            "[62 rows x 6 columns]\n"
          ]
        }
      ]
    }
  ]
}